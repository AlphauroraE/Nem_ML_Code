{
 "cells": [
  {
   "cell_type": "code",
   "execution_count": null,
   "metadata": {},
   "outputs": [],
   "source": [
    "import pandas as pd\n",
    "\n",
    "# read in COI data from 2_subdomains.csv\n",
    "# change path to the actual path to this file\n",
    "path = \"2_subdomains.csv\"\n",
    "coi_df = pd.read_csv(path)"
   ]
  },
  {
   "cell_type": "code",
   "execution_count": null,
   "metadata": {},
   "outputs": [],
   "source": [
    "# This calculates the mean score of each county based on all of the data for that county in the r_SE_WL_nat column\n",
    "df_avg_score = coi_df.groupby('county_name')['r_SE_WL_nat'].mean().reset_index()"
   ]
  },
  {
   "cell_type": "code",
   "execution_count": null,
   "metadata": {},
   "outputs": [],
   "source": [
    "# These print statements give an idea of what the data looks like and its range\n",
    "print(df_avg_score)\n",
    "print(min(df_avg_score[\"r_SE_WL_nat\"]))\n",
    "print(max(df_avg_score[\"r_SE_WL_nat\"]))"
   ]
  },
  {
   "cell_type": "code",
   "execution_count": null,
   "metadata": {},
   "outputs": [],
   "source": [
    "# Go through this new dataframe. \n",
    "# If the score is in [1,33], append that county to a list called \"low\"\n",
    "# If the score is in [34,66], append that county to a list called \"medium\"\n",
    "# If the score is in [67,100], append that county to a list called \"high\"\n",
    "\n",
    "low, med, high = [],[],[]\n",
    "level_dict = {}\n",
    "zip_dict = {}\n",
    "\n",
    "for row in range(len(df_avg_score[\"r_SE_WL_nat\"])):\n",
    "    # Store the county's mean value\n",
    "    cur_val = df_avg_score[\"r_SE_WL_nat\"][row]\n",
    "\n",
    "    # Store the county name\n",
    "    county = df_avg_score[\"county_name\"][row]\n",
    "    \n",
    "    if (cur_val >= 1 and cur_val <= 33):\n",
    "        low.append(county)\n",
    "        level_dict[county] = \"Low\"\n",
    "    elif (cur_val >= 34 and cur_val <= 66):\n",
    "        med.append(county)\n",
    "        level_dict[county] = \"Medium\"\n",
    "    else:\n",
    "        high.append(county)\n",
    "        level_dict[county] = \"High\"\n",
    "\n",
    "# print(low)\n",
    "# print(med)\n",
    "# print(high)\n",
    "# print(level_dict)"
   ]
  },
  {
   "cell_type": "code",
   "execution_count": null,
   "metadata": {},
   "outputs": [],
   "source": [
    "# Create the \"Level\" column that assigns a county a level based on the mean score\n",
    "coi_df[\"Level\"] = coi_df[\"county_name\"].map(level_dict)"
   ]
  },
  {
   "cell_type": "code",
   "execution_count": null,
   "metadata": {},
   "outputs": [],
   "source": [
    "# Read in the ADMISSIONS.csv file\n",
    "path = \"ADMISSIONS.csv\"\n",
    "mimic_df = pd.read_csv(path)"
   ]
  },
  {
   "cell_type": "markdown",
   "metadata": {},
   "source": [
    "private -> high -> random county from list of high counties"
   ]
  },
  {
   "cell_type": "code",
   "execution_count": null,
   "metadata": {},
   "outputs": [],
   "source": [
    "# The following insurance assignments will determine which level of zip codes to assign to each row of the \n",
    "# MIMIC dataset for the synthetic zip code column\n",
    "\n",
    "insurance_dict = {}\n",
    "\n",
    "insurance_dict[\"Medicaid\"] = \"Low\"\n",
    "insurance_dict[\"Government\"] = \"Low\"\n",
    "insurance_dict[\"Self Pay\"] = \"Low\"\n",
    "insurance_dict[\"Medicare\"] = \"Medium\"\n",
    "insurance_dict[\"Private\"] = \"High\""
   ]
  },
  {
   "cell_type": "code",
   "execution_count": null,
   "metadata": {},
   "outputs": [],
   "source": [
    "# Create the \"Level\" column in the MIMIC dataset\n",
    "mimic_df[\"Level\"] = mimic_df[\"INSURANCE\"].map(insurance_dict)"
   ]
  },
  {
   "cell_type": "code",
   "execution_count": null,
   "metadata": {},
   "outputs": [],
   "source": [
    "# This function assumes the low, med, high arrays are already established\n",
    "def assign_county(row):\n",
    "    import random\n",
    "\n",
    "    if (row[\"Level\"] == \"Low\"):\n",
    "        return random.choice(low)\n",
    "    elif (row[\"Level\"] == \"Medium\"):\n",
    "        return random.choice(med)\n",
    "    elif (row[\"Level\"] == \"High\"):\n",
    "        return random.choice(high)\n",
    "    \n",
    "# This line of code assigns counties to the MIMIC dataset based on the level\n",
    "mimic_df[\"county_name\"] = mimic_df.apply(assign_county, axis=1)"
   ]
  },
  {
   "cell_type": "code",
   "execution_count": null,
   "metadata": {},
   "outputs": [],
   "source": [
    "# Visualize the data's contents\n",
    "mimic_df.head()"
   ]
  },
  {
   "cell_type": "code",
   "execution_count": null,
   "metadata": {},
   "outputs": [],
   "source": [
    "# The following json file was obtained from GitHub: https://github.com/AdmitHub/us-zcta-counties/tree/main\n",
    "\n",
    "import json\n",
    "\n",
    "# May need to specify path here, but as long as this json file is in the same folder as this Jupyter Notebook it should work\n",
    "with open('state_county_zip.json', 'r') as f:\n",
    "    data = json.load(f)\n",
    "\n",
    "def get_zip(county_name):\n",
    "    import random\n",
    "    \n",
    "    state_abbreviations = {\n",
    "                        \"Alabama\": \"AL\",\n",
    "                        \"Alaska\": \"AK\",\n",
    "                        \"Arizona\": \"AZ\",\n",
    "                        \"Arkansas\": \"AR\",\n",
    "                        \"California\": \"CA\",\n",
    "                        \"Colorado\": \"CO\",\n",
    "                        \"Connecticut\": \"CT\",\n",
    "                        'District of Columbia': \"DC\",\n",
    "                        \"Delaware\": \"DE\",\n",
    "                        \"Florida\": \"FL\",\n",
    "                        \"Georgia\": \"GA\",\n",
    "                        \"Hawaii\": \"HI\",\n",
    "                        \"Idaho\": \"ID\",\n",
    "                        \"Illinois\": \"IL\",\n",
    "                        \"Indiana\": \"IN\",\n",
    "                        \"Iowa\": \"IA\",\n",
    "                        \"Kansas\": \"KS\",\n",
    "                        \"Kentucky\": \"KY\",\n",
    "                        \"Louisiana\": \"LA\",\n",
    "                        \"Maine\": \"ME\",\n",
    "                        \"Maryland\": \"MD\",\n",
    "                        \"Massachusetts\": \"MA\",\n",
    "                        \"Michigan\": \"MI\",\n",
    "                        \"Minnesota\": \"MN\",\n",
    "                        \"Mississippi\": \"MS\",\n",
    "                        \"Missouri\": \"MO\",\n",
    "                        \"Montana\": \"MT\",\n",
    "                        \"Nebraska\": \"NE\",\n",
    "                        \"Nevada\": \"NV\",\n",
    "                        \"New Hampshire\": \"NH\",\n",
    "                        \"New Jersey\": \"NJ\",\n",
    "                        \"New Mexico\": \"NM\",\n",
    "                        \"New York\": \"NY\",\n",
    "                        \"North Carolina\": \"NC\",\n",
    "                        \"North Dakota\": \"ND\",\n",
    "                        \"Ohio\": \"OH\",\n",
    "                        \"Oklahoma\": \"OK\",\n",
    "                        \"Oregon\": \"OR\",\n",
    "                        \"Pennsylvania\": \"PA\",\n",
    "                        \"Rhode Island\": \"RI\",\n",
    "                        \"South Carolina\": \"SC\",\n",
    "                        \"South Dakota\": \"SD\",\n",
    "                        \"Tennessee\": \"TN\",\n",
    "                        \"Texas\": \"TX\",\n",
    "                        \"Utah\": \"UT\",\n",
    "                        \"Vermont\": \"VT\",\n",
    "                        \"Virginia\": \"VA\",\n",
    "                        \"Washington\": \"WA\",\n",
    "                        \"West Virginia\": \"WV\",\n",
    "                        \"Wisconsin\": \"WI\",\n",
    "                        \"Wyoming\": \"WY\"\n",
    "                    }\n",
    "\n",
    "    # Assumes there will be a comma and space in between\n",
    "    elements = county_name.split(', ')\n",
    "    # print(elements)\n",
    "    county = elements[0]\n",
    "\n",
    "    if (len(elements) > 1):\n",
    "        # Assumes that the county and state were separated successfully\n",
    "        state = state_abbreviations[elements[1]]\n",
    "    else:\n",
    "        # Sometimes \"census areas\" don't have a corresponding state so splitting by commas don't work.\n",
    "        # Thankfully, they tend to be in Alaska\n",
    "        state = \"AK\"\n",
    "\n",
    "    if state in data:\n",
    "        if county in data[state][\"counties\"]:\n",
    "            # This gets the first zip code available for that county.\n",
    "            # return data[state][\"counties\"][county][\"zip_codes\"][0]\n",
    "\n",
    "            # The better code is to randomly pick a zip code from the list of zip codes for that county:\n",
    "            return random.choice(data[state][\"counties\"][county][\"zip_codes\"])\n",
    "\n",
    "    # If all else fails, return 00000, but it would be good to check for 00000 in the resulting csv.\n",
    "    return '00000'\n",
    "\n",
    "\n",
    "\n",
    "# get_zip('Armstrong County, Pennsylvania')"
   ]
  },
  {
   "cell_type": "code",
   "execution_count": null,
   "metadata": {},
   "outputs": [],
   "source": [
    "# Actually create the synthetic zip code column\n",
    "mimic_df['zip_code'] = mimic_df.apply(lambda row: get_zip(row['county_name']), axis=1)"
   ]
  },
  {
   "cell_type": "code",
   "execution_count": null,
   "metadata": {},
   "outputs": [],
   "source": [
    "# Write the resulting csv file (can change the name here)\n",
    "mimic_df.to_csv(\"ADMISSIONS_SYNTHETIC.csv\", index=None)"
   ]
  }
 ],
 "metadata": {
  "kernelspec": {
   "display_name": "Python 3",
   "language": "python",
   "name": "python3"
  },
  "language_info": {
   "codemirror_mode": {
    "name": "ipython",
    "version": 3
   },
   "file_extension": ".py",
   "mimetype": "text/x-python",
   "name": "python",
   "nbconvert_exporter": "python",
   "pygments_lexer": "ipython3",
   "version": "3.9.7"
  }
 },
 "nbformat": 4,
 "nbformat_minor": 2
}
