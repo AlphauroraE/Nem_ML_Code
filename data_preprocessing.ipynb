{
 "cells": [
  {
   "cell_type": "markdown",
   "metadata": {},
   "source": [
    "Import Modules"
   ]
  },
  {
   "cell_type": "code",
   "execution_count": 1,
   "metadata": {},
   "outputs": [],
   "source": [
    "import pandas as pd \n",
    "import numpy as np"
   ]
  },
  {
   "cell_type": "markdown",
   "metadata": {},
   "source": [
    "load datasets "
   ]
  },
  {
   "cell_type": "code",
   "execution_count": null,
   "metadata": {},
   "outputs": [],
   "source": [
    "#Load COI data\n",
    "coi_data = pd.read_csv('2_subdomains.csv', usecols=[\n",
    "    'county_name', 'state_name',  # Geographic identifiers for merging\n",
    "    \n",
    "    #if we're going to do stepwise feature selection, might as well pull as many relevant features as possible then omit during testing\n",
    "    \n",
    "    \n",
    "    # Education Domain\n",
    "    'z_ED_EC_nat',  # Early Childhood Education: Access to and quality of early childhood education programs.\n",
    "    'z_ED_EL_nat',  # Elementary Education Quality: Performance and access at the elementary school level.\n",
    "    'z_ED_ER_nat',  # High School Enrollment Rates: Percentage of eligible students enrolled in high school.\n",
    "    'z_ED_SP_nat',  # School Performance: Aggregate performance of schools in the area, indicating overall education quality.\n",
    "    \n",
    "    # Health & Environment Domain\n",
    "    'z_HE_EP_nat',  # Environmental Pollution: Air and water pollution levels, which impact chronic health conditions.\n",
    "    'z_HE_HR_nat',  # Housing Risk: Measures housing insecurity, including overcrowding or lack of stable housing.\n",
    "    'z_HE_SE_nat',  # Safety Environment: Reflects crime rates and safety conditions in the area, impacting mental and physical health.\n",
    "    'z_HE_HE_nat',  # Healthcare Access: Indicates availability of healthcare facilities and services in the community.\n",
    "    \n",
    "    # Socioeconomic Domain\n",
    "    'z_SE_EI_nat',  # Employment and Income: Measures employment rates and income stability within the community.\n",
    "    'z_SE_EO_nat',  # Economic Opportunity: Captures opportunities for upward economic mobility.\n",
    "    'z_SE_ER_nat',  # Educational Resources: Availability of resources supporting education, such as libraries and technology.\n",
    "    'z_SE_HQ_nat',  # Housing Quality: Reflects the condition and quality of housing in the area.\n",
    "    'z_SE_SR_nat',  # Social Resources: Measures community support systems and social cohesion.\n",
    "    'z_SE_WL_nat'   # Workforce Longevity: Stability and longevity of employment within the workforce.\n",
    "])\n",
    "\n",
    "#load MIMIC Synthesized admissions table (COMPLEX_DIAGNOSIS + Zipcode)\n",
    "admissions_data = pd.read_csv(\"ADMISSIONS_SYNTHETIC.csv\")\n",
    "\n",
    "#load MIMIC patients data \n",
    "patients_data = pd.read_csv(\"PATIENTS.csv\")"
   ]
  },
  {
   "cell_type": "markdown",
   "metadata": {},
   "source": [
    "reduce ADMISSIONS_SYNTHETIC"
   ]
  },
  {
   "cell_type": "code",
   "execution_count": 3,
   "metadata": {},
   "outputs": [],
   "source": [
    "admissions_reduced = admissions_data[[\n",
    "    'HADM_ID', 'SUBJECT_ID', 'ADMITTIME', 'DISCHTIME', 'DEATHTIME', \n",
    "    'ADMISSION_TYPE', 'ADMISSION_LOCATION', 'DISCHARGE_LOCATION', \n",
    "    'INSURANCE', 'LANGUAGE', 'RELIGION', 'MARITAL_STATUS', \n",
    "    'ETHNICITY', 'DIAGNOSIS', 'HAS_CHARTEVENTS_DATA', 'COMPLEX_DIAGNOSIS',\n",
    "    'Level','county_name','zip_code'\n",
    "]]"
   ]
  },
  {
   "cell_type": "markdown",
   "metadata": {},
   "source": [
    "connect patients with admissions by SUBJECT_ID"
   ]
  },
  {
   "cell_type": "code",
   "execution_count": 4,
   "metadata": {},
   "outputs": [],
   "source": [
    "# connect patients table with ADMISSIONS_SYNTHETIC to generate new table \n",
    "patients_admissions = pd.merge(patients_data, admissions_reduced, on='SUBJECT_ID', how='inner')\n",
    "\n",
    "patients_admissions.to_csv('Patients_Admissions.csv', index=False)"
   ]
  },
  {
   "cell_type": "markdown",
   "metadata": {},
   "source": [
    "Remove Duplicates from patients_admissions"
   ]
  },
  {
   "cell_type": "code",
   "execution_count": 5,
   "metadata": {},
   "outputs": [],
   "source": [
    "patients_admissions = patients_admissions.drop_duplicates()\n",
    "\n",
    "patients_admissions.to_csv('Patients_Admissions.csv', index=False)"
   ]
  },
  {
   "cell_type": "markdown",
   "metadata": {},
   "source": [
    "Check for duplicates, aggregate the data (mean of each score per county)"
   ]
  },
  {
   "cell_type": "code",
   "execution_count": null,
   "metadata": {},
   "outputs": [
    {
     "name": "stdout",
     "output_type": "stream",
     "text": [
      "Duplicates in patients_admissions: 0\n",
      "Duplicates in COI data: 722855\n"
     ]
    }
   ],
   "source": [
    "# Check for duplicates in patients_admissions\n",
    "patients_admissions_duplicates = patients_admissions[patients_admissions.duplicated(subset=['HADM_ID', 'county_name'])]\n",
    "print(f\"Duplicates in patients_admissions: {len(patients_admissions_duplicates)}\")\n",
    "\n",
    "# Remove duplicates, keeping the first occurrence\n",
    "patients_admissions = patients_admissions.drop_duplicates(subset=['HADM_ID', 'county_name'])\n",
    "\n",
    "# Check for duplicates in COI data\n",
    "coi_duplicates = coi_data[coi_data.duplicated(subset=['county_name'])]\n",
    "print(f\"Duplicates in COI data: {len(coi_duplicates)}\")\n",
    "\n",
    "\n",
    "# Group by 'county_name' and aggregate numeric columns\n",
    "\"\"\"\n",
    "COI data has multiple rows for the same county_name\n",
    "Aggregation combines multiple rows into one row per county by summarizing numeric columns into single values \n",
    "procedure: it took the mean of those scores for each county_name to produce row per county\n",
    "\"\"\"\n",
    "numeric_columns = coi_data.select_dtypes(include=['number']).columns\n",
    "coi_data_grouped = coi_data.groupby('county_name')[numeric_columns].mean().reset_index()\n",
    "\n",
    "# Retain only necessary columns for merging\n",
    "coi_data_cleaned = coi_data[['county_name']].drop_duplicates().merge(\n",
    "    coi_data_grouped, on='county_name', how='left'\n",
    ")   "
   ]
  },
  {
   "cell_type": "markdown",
   "metadata": {},
   "source": [
    "Perform Merge"
   ]
  },
  {
   "cell_type": "code",
   "execution_count": 8,
   "metadata": {},
   "outputs": [],
   "source": [
    "# Merge patients_admissions with cleaned COI data\n",
    "patients_admissions_coi = pd.merge(patients_admissions, coi_data_cleaned, on='county_name', how='inner')\n",
    "\n",
    "# Save the merged dataset\n",
    "patients_admissions_coi.to_csv('Patients_Admissions_COI.csv', index=False)"
   ]
  }
 ],
 "metadata": {
  "kernelspec": {
   "display_name": "Python 3",
   "language": "python",
   "name": "python3"
  },
  "language_info": {
   "codemirror_mode": {
    "name": "ipython",
    "version": 3
   },
   "file_extension": ".py",
   "mimetype": "text/x-python",
   "name": "python",
   "nbconvert_exporter": "python",
   "pygments_lexer": "ipython3",
   "version": "3.9.0"
  }
 },
 "nbformat": 4,
 "nbformat_minor": 2
}
